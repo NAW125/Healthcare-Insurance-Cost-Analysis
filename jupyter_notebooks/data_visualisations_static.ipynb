{
 "cells": [
  {
   "cell_type": "markdown",
   "id": "79f68cc2",
   "metadata": {},
   "source": [
    "## 3 Visualisations \n"
   ]
  },
  {
   "cell_type": "code",
   "execution_count": 3,
   "id": "1fe41d6c",
   "metadata": {},
   "outputs": [],
   "source": [
    "import numpy as np\n",
    "import pandas as pd\n",
    "import matplotlib.pyplot as plt\n",
    "import seaborn as sns\n",
    "import plotly.io as pio"
   ]
  },
  {
   "cell_type": "code",
   "execution_count": 4,
   "id": "0db625a4",
   "metadata": {},
   "outputs": [
    {
     "data": {
      "text/html": [
       "<div>\n",
       "<style scoped>\n",
       "    .dataframe tbody tr th:only-of-type {\n",
       "        vertical-align: middle;\n",
       "    }\n",
       "\n",
       "    .dataframe tbody tr th {\n",
       "        vertical-align: top;\n",
       "    }\n",
       "\n",
       "    .dataframe thead th {\n",
       "        text-align: right;\n",
       "    }\n",
       "</style>\n",
       "<table border=\"1\" class=\"dataframe\">\n",
       "  <thead>\n",
       "    <tr style=\"text-align: right;\">\n",
       "      <th></th>\n",
       "      <th>age</th>\n",
       "      <th>bmi</th>\n",
       "      <th>children</th>\n",
       "      <th>charges</th>\n",
       "      <th>sex_encoded</th>\n",
       "      <th>smoker_encoded</th>\n",
       "      <th>region_northeast</th>\n",
       "      <th>region_northwest</th>\n",
       "      <th>region_southeast</th>\n",
       "      <th>region_southwest</th>\n",
       "    </tr>\n",
       "  </thead>\n",
       "  <tbody>\n",
       "    <tr>\n",
       "      <th>0</th>\n",
       "      <td>19</td>\n",
       "      <td>27.900</td>\n",
       "      <td>0</td>\n",
       "      <td>16884.92400</td>\n",
       "      <td>1</td>\n",
       "      <td>1</td>\n",
       "      <td>0</td>\n",
       "      <td>0</td>\n",
       "      <td>0</td>\n",
       "      <td>1</td>\n",
       "    </tr>\n",
       "    <tr>\n",
       "      <th>1</th>\n",
       "      <td>18</td>\n",
       "      <td>33.770</td>\n",
       "      <td>1</td>\n",
       "      <td>1725.55230</td>\n",
       "      <td>0</td>\n",
       "      <td>0</td>\n",
       "      <td>0</td>\n",
       "      <td>0</td>\n",
       "      <td>1</td>\n",
       "      <td>0</td>\n",
       "    </tr>\n",
       "    <tr>\n",
       "      <th>2</th>\n",
       "      <td>28</td>\n",
       "      <td>33.000</td>\n",
       "      <td>3</td>\n",
       "      <td>4449.46200</td>\n",
       "      <td>0</td>\n",
       "      <td>0</td>\n",
       "      <td>0</td>\n",
       "      <td>0</td>\n",
       "      <td>1</td>\n",
       "      <td>0</td>\n",
       "    </tr>\n",
       "    <tr>\n",
       "      <th>3</th>\n",
       "      <td>33</td>\n",
       "      <td>22.705</td>\n",
       "      <td>0</td>\n",
       "      <td>21984.47061</td>\n",
       "      <td>0</td>\n",
       "      <td>0</td>\n",
       "      <td>0</td>\n",
       "      <td>1</td>\n",
       "      <td>0</td>\n",
       "      <td>0</td>\n",
       "    </tr>\n",
       "    <tr>\n",
       "      <th>4</th>\n",
       "      <td>32</td>\n",
       "      <td>28.880</td>\n",
       "      <td>0</td>\n",
       "      <td>3866.85520</td>\n",
       "      <td>0</td>\n",
       "      <td>0</td>\n",
       "      <td>0</td>\n",
       "      <td>1</td>\n",
       "      <td>0</td>\n",
       "      <td>0</td>\n",
       "    </tr>\n",
       "  </tbody>\n",
       "</table>\n",
       "</div>"
      ],
      "text/plain": [
       "   age     bmi  children      charges  sex_encoded  smoker_encoded  \\\n",
       "0   19  27.900         0  16884.92400            1               1   \n",
       "1   18  33.770         1   1725.55230            0               0   \n",
       "2   28  33.000         3   4449.46200            0               0   \n",
       "3   33  22.705         0  21984.47061            0               0   \n",
       "4   32  28.880         0   3866.85520            0               0   \n",
       "\n",
       "   region_northeast  region_northwest  region_southeast  region_southwest  \n",
       "0                 0                 0                 0                 1  \n",
       "1                 0                 0                 1                 0  \n",
       "2                 0                 0                 1                 0  \n",
       "3                 0                 1                 0                 0  \n",
       "4                 0                 1                 0                 0  "
      ]
     },
     "execution_count": 4,
     "metadata": {},
     "output_type": "execute_result"
    }
   ],
   "source": [
    "df = pd.read_csv('data_raw/insurance_transformed.csv')\n",
    "df.head()"
   ]
  },
  {
   "cell_type": "markdown",
   "id": "cd8aaa8b",
   "metadata": {},
   "source": [
    "Start by calculating the average cost by region, to see if there is any difference in the costs based on location. "
   ]
  },
  {
   "cell_type": "code",
   "execution_count": 13,
   "id": "fa26a216",
   "metadata": {},
   "outputs": [
    {
     "name": "stdout",
     "output_type": "stream",
     "text": [
      "region_northeast: 13406.384516385804\n",
      "region_northwest: 12450.840843950617\n",
      "region_southeast: 14735.411437609888\n",
      "region_southwest: 12346.937377292308\n"
     ]
    }
   ],
   "source": [
    "regions = ['region_northeast', 'region_northwest', 'region_southeast', 'region_southwest']\n",
    "average_costs = {}\n",
    "\n",
    "for region in regions:\n",
    "    filtered_df = df[df[region] == 1]\n",
    "    avg_cost = filtered_df['charges'].mean()\n",
    "    average_costs[region] = avg_cost  \n",
    "    print(f\"{region}: {avg_cost}\")"
   ]
  },
  {
   "cell_type": "code",
   "execution_count": 14,
   "id": "001b6044",
   "metadata": {},
   "outputs": [
    {
     "data": {
      "image/png": "[encoded data removed]",
      "text/plain": [
       "<Figure size 700x500 with 1 Axes>"
      ]
     },
     "metadata": {},
     "output_type": "display_data"
    }
   ],
   "source": [
    "cleaned_labels = [label.replace('region_', '').capitalize() for label in average_costs.keys()]\n",
    "\n",
    "import matplotlib.pyplot as plt\n",
    "\n",
    "plt.figure(figsize=(7,5))\n",
    "plt.bar(cleaned_labels, average_costs.values(), color='skyblue')\n",
    "plt.xlabel('Region')\n",
    "plt.ylabel('Average Insurance Cost')\n",
    "plt.title('Average Insurance Cost by Region')\n",
    "plt.xticks(rotation=15)\n",
    "plt.tight_layout()\n",
    "plt.show()"
   ]
  },
  {
   "cell_type": "markdown",
   "id": "df3b1067",
   "metadata": {},
   "source": [
    "Calculate average cost by smoking preference "
   ]
  },
  {
   "cell_type": "code",
   "execution_count": 15,
   "id": "f813d11b",
   "metadata": {},
   "outputs": [],
   "source": [
    "\n",
    "avg_smoker = df[df['smoker_encoded'] == 1]['charges'].mean()\n",
    "\n",
    "\n",
    "avg_nonsmoker = df[df['smoker_encoded'] == 0]['charges'].mean()"
   ]
  },
  {
   "cell_type": "code",
   "execution_count": 16,
   "id": "a0c49c79",
   "metadata": {},
   "outputs": [
    {
     "data": {
      "image/png": "[encoded data removed]",
      "text/plain": [
       "<Figure size 600x400 with 1 Axes>"
      ]
     },
     "metadata": {},
     "output_type": "display_data"
    }
   ],
   "source": [
    "\n",
    "smoker_costs = {\n",
    "    'Smoker': avg_smoker,\n",
    "    'Non-Smoker': avg_nonsmoker\n",
    "}\n",
    "\n",
    "# Plot\n",
    "import matplotlib.pyplot as plt\n",
    "\n",
    "categories = list(smoker_costs.keys())\n",
    "values = list(smoker_costs.values())\n",
    "\n",
    "plt.figure(figsize=(6, 4))\n",
    "plt.bar(categories, values, color=['blue', 'blue'])\n",
    "plt.title('Average Insurance Cost by Smoking Status')\n",
    "plt.ylabel('Average Charges ($)')\n",
    "plt.tight_layout()\n",
    "plt.show()\n",
    "\n",
    "\n",
    "\n",
    "\n",
    "\n"
   ]
  },
  {
   "cell_type": "markdown",
   "id": "c60a2a83",
   "metadata": {},
   "source": [
    "Compare Insurance costs with smoking status, BMI and age "
   ]
  },
  {
   "cell_type": "code",
   "execution_count": 18,
   "id": "3f76091c",
   "metadata": {},
   "outputs": [
    {
     "data": {
      "application/vnd.plotly.v1+json": {
       "config": {
        "plotlyServerURL": "https://plot.ly"
       },
       "data": [
        {
         "hovertemplate": "Smoker=Smoker<br>Age=%{x}<br>Insurance Charges ($)=%{y}<br>BMI (Scaled)=%{marker.size}<extra></extra>",
         "legendgroup": "Smoker",
         "marker": {
          "color": "#636efa",
          "opacity": 0.6,
          "size": {
           "bdata": "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",
           "dtype": "f8"
          },
          "sizemode": "area",
          "sizeref": 0.03333333333333333,
          "symbol": "circle"
         },
         "mode": "markers",
         "name": "Smoker",
         "showlegend": true,
         "type": "scattergl",
         "x": {
          "bdata": "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",
          "dtype": "f8"
         },
         "xaxis": "x",
         "y": {
          "bdata": "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",
          "dtype": "f8"
         },
         "yaxis": "y"
        },
        {
         "hovertemplate": "Smoker=Non-Smoker<br>Age=%{x}<br>Insurance Charges ($)=%{y}<br>BMI (Scaled)=%{marker.size}<extra></extra>",
         "legendgroup": "Non-Smoker",
         "marker": {
          "color": "#EF553B",
          "opacity": 0.6,
          "size": {
           "bdata": "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",
           "dtype": "f8"
          },
          "sizemode": "area",
          "sizeref": 0.03333333333333333,
          "symbol": "diamond"
         },
         "mode": "markers",
         "name": "Non-Smoker",
         "showlegend": true,
         "type": "scattergl",
         "x": {
          "bdata": "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",
          "dtype": "f8"
         },
         "xaxis": "x",
         "y": {
          "bdata": "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",
          "dtype": "f8"
         },
         "yaxis": "y"
        }
       ],
       "layout": {
        "legend": {
         "itemsizing": "constant",
         "title": {
          "text": "Smoker"
         },
         "tracegroupgap": 0
        },
        "template": {
         "data": {
          "bar": [
           {
            "error_x": {
             "color": "#2a3f5f"
            },
            "error_y": {
             "color": "#2a3f5f"
            },
            "marker": {
             "line": {
              "color": "white",
              "width": 0.5
             },
             "pattern": {
              "fillmode": "overlay",
              "size": 10,
              "solidity": 0.2
             }
            },
            "type": "bar"
           }
          ],
          "barpolar": [
           {
            "marker": {
             "line": {
              "color": "white",
              "width": 0.5
             },
             "pattern": {
              "fillmode": "overlay",
              "size": 10,
              "solidity": 0.2
             }
            },
            "type": "barpolar"
           }
          ],
          "carpet": [
           {
            "aaxis": {
             "endlinecolor": "#2a3f5f",
             "gridcolor": "#C8D4E3",
             "linecolor": "#C8D4E3",
             "minorgridcolor": "#C8D4E3",
             "startlinecolor": "#2a3f5f"
            },
            "baxis": {
             "endlinecolor": "#2a3f5f",
             "gridcolor": "#C8D4E3",
             "linecolor": "#C8D4E3",
             "minorgridcolor": "#C8D4E3",
             "startlinecolor": "#2a3f5f"
            },
            "type": "carpet"
           }
          ],
          "choropleth": [
           {
            "colorbar": {
             "outlinewidth": 0,
             "ticks": ""
            },
            "type": "choropleth"
           }
          ],
          "contour": [
           {
            "colorbar": {
             "outlinewidth": 0,
             "ticks": ""
            },
            "colorscale": [
             [
              0,
              "#0d0887"
             ],
             [
              0.1111111111111111,
              "#46039f"
             ],
             [
              0.2222222222222222,
              "#7201a8"
             ],
             [
              0.3333333333333333,
              "#9c179e"
             ],
             [
              0.4444444444444444,
              "#bd3786"
             ],
             [
              0.5555555555555556,
              "#d8576b"
             ],
             [
              0.6666666666666666,
              "#ed7953"
             ],
             [
              0.7777777777777778,
              "#fb9f3a"
             ],
             [
              0.8888888888888888,
              "#fdca26"
             ],
             [
              1,
              "#f0f921"
             ]
            ],
            "type": "contour"
           }
          ],
          "contourcarpet": [
           {
            "colorbar": {
             "outlinewidth": 0,
             "ticks": ""
            },
            "type": "contourcarpet"
           }
          ],
          "heatmap": [
           {
            "colorbar": {
             "outlinewidth": 0,
             "ticks": ""
            },
            "colorscale": [
             [
              0,
              "#0d0887"
             ],
             [
              0.1111111111111111,
              "#46039f"
             ],
             [
              0.2222222222222222,
              "#7201a8"
             ],
             [
              0.3333333333333333,
              "#9c179e"
             ],
             [
              0.4444444444444444,
              "#bd3786"
             ],
             [
              0.5555555555555556,
              "#d8576b"
             ],
             [
              0.6666666666666666,
              "#ed7953"
             ],
             [
              0.7777777777777778,
              "#fb9f3a"
             ],
             [
              0.8888888888888888,
              "#fdca26"
             ],
             [
              1,
              "#f0f921"
             ]
            ],
            "type": "heatmap"
           }
          ],
          "histogram": [
           {
            "marker": {
             "pattern": {
              "fillmode": "overlay",
              "size": 10,
              "solidity": 0.2
             }
            },
            "type": "histogram"
           }
          ],
          "histogram2d": [
           {
            "colorbar": {
             "outlinewidth": 0,
             "ticks": ""
            },
            "colorscale": [
             [
              0,
              "#0d0887"
             ],
             [
              0.1111111111111111,
              "#46039f"
             ],
             [
              0.2222222222222222,
              "#7201a8"
             ],
             [
              0.3333333333333333,
              "#9c179e"
             ],
             [
              0.4444444444444444,
              "#bd3786"
             ],
             [
              0.5555555555555556,
              "#d8576b"
             ],
             [
              0.6666666666666666,
              "#ed7953"
             ],
             [
              0.7777777777777778,
              "#fb9f3a"
             ],
             [
              0.8888888888888888,
              "#fdca26"
             ],
             [
              1,
              "#f0f921"
             ]
            ],
            "type": "histogram2d"
           }
          ],
          "histogram2dcontour": [
           {
            "colorbar": {
             "outlinewidth": 0,
             "ticks": ""
            },
            "colorscale": [
             [
              0,
              "#0d0887"
             ],
             [
              0.1111111111111111,
              "#46039f"
             ],
             [
              0.2222222222222222,
              "#7201a8"
             ],
             [
              0.3333333333333333,
              "#9c179e"
             ],
             [
              0.4444444444444444,
              "#bd3786"
             ],
             [
              0.5555555555555556,
              "#d8576b"
             ],
             [
              0.6666666666666666,
              "#ed7953"
             ],
             [
              0.7777777777777778,
              "#fb9f3a"
             ],
             [
              0.8888888888888888,
              "#fdca26"
             ],
             [
              1,
              "#f0f921"
             ]
            ],
            "type": "histogram2dcontour"
           }
          ],
          "mesh3d": [
           {
            "colorbar": {
             "outlinewidth": 0,
             "ticks": ""
            },
            "type": "mesh3d"
           }
          ],
          "parcoords": [
           {
            "line": {
             "colorbar": {
              "outlinewidth": 0,
              "ticks": ""
             }
            },
            "type": "parcoords"
           }
          ],
          "pie": [
           {
            "automargin": true,
            "type": "pie"
           }
          ],
          "scatter": [
           {
            "fillpattern": {
             "fillmode": "overlay",
             "size": 10,
             "solidity": 0.2
            },
            "type": "scatter"
           }
          ],
          "scatter3d": [
           {
            "line": {
             "colorbar": {
              "outlinewidth": 0,
              "ticks": ""
             }
            },
            "marker": {
             "colorbar": {
              "outlinewidth": 0,
              "ticks": ""
             }
            },
            "type": "scatter3d"
           }
          ],
          "scattercarpet": [
           {
            "marker": {
             "colorbar": {
              "outlinewidth": 0,
              "ticks": ""
             }
            },
            "type": "scattercarpet"
           }
          ],
          "scattergeo": [
           {
            "marker": {
             "colorbar": {
              "outlinewidth": 0,
              "ticks": ""
             }
            },
            "type": "scattergeo"
           }
          ],
          "scattergl": [
           {
            "marker": {
             "colorbar": {
              "outlinewidth": 0,
              "ticks": ""
             }
            },
            "type": "scattergl"
           }
          ],
          "scattermap": [
           {
            "marker": {
             "colorbar": {
              "outlinewidth": 0,
              "ticks": ""
             }
            },
            "type": "scattermap"
           }
          ],
          "scattermapbox": [
           {
            "marker": {
             "colorbar": {
              "outlinewidth": 0,
              "ticks": ""
             }
            },
            "type": "scattermapbox"
           }
          ],
          "scatterpolar": [
           {
            "marker": {
             "colorbar": {
              "outlinewidth": 0,
              "ticks": ""
             }
            },
            "type": "scatterpolar"
           }
          ],
          "scatterpolargl": [
           {
            "marker": {
             "colorbar": {
              "outlinewidth": 0,
              "ticks": ""
             }
            },
            "type": "scatterpolargl"
           }
          ],
          "scatterternary": [
           {
            "marker": {
             "colorbar": {
              "outlinewidth": 0,
              "ticks": ""
             }
            },
            "type": "scatterternary"
           }
          ],
          "surface": [
           {
            "colorbar": {
             "outlinewidth": 0,
             "ticks": ""
            },
            "colorscale": [
             [
              0,
              "#0d0887"
             ],
             [
              0.1111111111111111,
              "#46039f"
             ],
             [
              0.2222222222222222,
              "#7201a8"
             ],
             [
              0.3333333333333333,
              "#9c179e"
             ],
             [
              0.4444444444444444,
              "#bd3786"
             ],
             [
              0.5555555555555556,
              "#d8576b"
             ],
             [
              0.6666666666666666,
              "#ed7953"
             ],
             [
              0.7777777777777778,
              "#fb9f3a"
             ],
             [
              0.8888888888888888,
              "#fdca26"
             ],
             [
              1,
              "#f0f921"
             ]
            ],
            "type": "surface"
           }
          ],
          "table": [
           {
            "cells": {
             "fill": {
              "color": "#EBF0F8"
             },
             "line": {
              "color": "white"
             }
            },
            "header": {
             "fill": {
              "color": "#C8D4E3"
             },
             "line": {
              "color": "white"
             }
            },
            "type": "table"
           }
          ]
         },
         "layout": {
          "annotationdefaults": {
           "arrowcolor": "#2a3f5f",
           "arrowhead": 0,
           "arrowwidth": 1
          },
          "autotypenumbers": "strict",
          "coloraxis": {
           "colorbar": {
            "outlinewidth": 0,
            "ticks": ""
           }
          },
          "colorscale": {
           "diverging": [
            [
             0,
             "#8e0152"
            ],
            [
             0.1,
             "#c51b7d"
            ],
            [
             0.2,
             "#de77ae"
            ],
            [
             0.3,
             "#f1b6da"
            ],
            [
             0.4,
             "#fde0ef"
            ],
            [
             0.5,
             "#f7f7f7"
            ],
            [
             0.6,
             "#e6f5d0"
            ],
            [
             0.7,
             "#b8e186"
            ],
            [
             0.8,
             "#7fbc41"
            ],
            [
             0.9,
             "#4d9221"
            ],
            [
             1,
             "#276419"
            ]
           ],
           "sequential": [
            [
             0,
             "#0d0887"
            ],
            [
             0.1111111111111111,
             "#46039f"
            ],
            [
             0.2222222222222222,
             "#7201a8"
            ],
            [
             0.3333333333333333,
             "#9c179e"
            ],
            [
             0.4444444444444444,
             "#bd3786"
            ],
            [
             0.5555555555555556,
             "#d8576b"
            ],
            [
             0.6666666666666666,
             "#ed7953"
            ],
            [
             0.7777777777777778,
             "#fb9f3a"
            ],
            [
             0.8888888888888888,
             "#fdca26"
            ],
            [
             1,
             "#f0f921"
            ]
           ],
           "sequentialminus": [
            [
             0,
             "#0d0887"
            ],
            [
             0.1111111111111111,
             "#46039f"
            ],
            [
             0.2222222222222222,
             "#7201a8"
            ],
            [
             0.3333333333333333,
             "#9c179e"
            ],
            [
             0.4444444444444444,
             "#bd3786"
            ],
            [
             0.5555555555555556,
             "#d8576b"
            ],
            [
             0.6666666666666666,
             "#ed7953"
            ],
            [
             0.7777777777777778,
             "#fb9f3a"
            ],
            [
             0.8888888888888888,
             "#fdca26"
            ],
            [
             1,
             "#f0f921"
            ]
           ]
          },
          "colorway": [
           "#636efa",
           "#EF553B",
           "#00cc96",
           "#ab63fa",
           "#FFA15A",
           "#19d3f3",
           "#FF6692",
           "#B6E880",
           "#FF97FF",
           "#FECB52"
          ],
          "font": {
           "color": "#2a3f5f"
          },
          "geo": {
           "bgcolor": "white",
           "lakecolor": "white",
           "landcolor": "white",
           "showlakes": true,
           "showland": true,
           "subunitcolor": "#C8D4E3"
          },
          "hoverlabel": {
           "align": "left"
          },
          "hovermode": "closest",
          "mapbox": {
           "style": "light"
          },
          "paper_bgcolor": "white",
          "plot_bgcolor": "white",
          "polar": {
           "angularaxis": {
            "gridcolor": "#EBF0F8",
            "linecolor": "#EBF0F8",
            "ticks": ""
           },
           "bgcolor": "white",
           "radialaxis": {
            "gridcolor": "#EBF0F8",
            "linecolor": "#EBF0F8",
            "ticks": ""
           }
          },
          "scene": {
           "xaxis": {
            "backgroundcolor": "white",
            "gridcolor": "#DFE8F3",
            "gridwidth": 2,
            "linecolor": "#EBF0F8",
            "showbackground": true,
            "ticks": "",
            "zerolinecolor": "#EBF0F8"
           },
           "yaxis": {
            "backgroundcolor": "white",
            "gridcolor": "#DFE8F3",
            "gridwidth": 2,
            "linecolor": "#EBF0F8",
            "showbackground": true,
            "ticks": "",
            "zerolinecolor": "#EBF0F8"
           },
           "zaxis": {
            "backgroundcolor": "white",
            "gridcolor": "#DFE8F3",
            "gridwidth": 2,
            "linecolor": "#EBF0F8",
            "showbackground": true,
            "ticks": "",
            "zerolinecolor": "#EBF0F8"
           }
          },
          "shapedefaults": {
           "line": {
            "color": "#2a3f5f"
           }
          },
          "ternary": {
           "aaxis": {
            "gridcolor": "#DFE8F3",
            "linecolor": "#A2B1C6",
            "ticks": ""
           },
           "baxis": {
            "gridcolor": "#DFE8F3",
            "linecolor": "#A2B1C6",
            "ticks": ""
           },
           "bgcolor": "white",
           "caxis": {
            "gridcolor": "#DFE8F3",
            "linecolor": "#A2B1C6",
            "ticks": ""
           }
          },
          "title": {
           "x": 0.05
          },
          "xaxis": {
           "automargin": true,
           "gridcolor": "#EBF0F8",
           "linecolor": "#EBF0F8",
           "ticks": "",
           "title": {
            "standoff": 15
           },
           "zerolinecolor": "#EBF0F8",
           "zerolinewidth": 2
          },
          "yaxis": {
           "automargin": true,
           "gridcolor": "#EBF0F8",
           "linecolor": "#EBF0F8",
           "ticks": "",
           "title": {
            "standoff": 15
           },
           "zerolinecolor": "#EBF0F8",
           "zerolinewidth": 2
          }
         }
        },
        "title": {
         "text": "Insurance Charges by Age, BMI & Smoking Status"
        },
        "xaxis": {
         "anchor": "y",
         "domain": [
          0,
          1
         ],
         "title": {
          "text": "Age"
         }
        },
        "yaxis": {
         "anchor": "x",
         "domain": [
          0,
          1
         ],
         "title": {
          "text": "Insurance Charges ($)"
         }
        }
       }
      }
     },
     "metadata": {},
     "output_type": "display_data"
    }
   ],
   "source": [
    "\n",
    "df['bmi_scaled'] = df['bmi'] / df['bmi'].max() * 30  # Adjust size range\n",
    "df['smoker_status'] = df['smoker_encoded'].map({0: 'Non-Smoker', 1: 'Smoker'})\n",
    "df['age_jittered'] = df['age'] + np.random.uniform(-0.5, 0.5, size=len(df))\n",
    "\n",
    "fig = px.scatter(\n",
    "    df,\n",
    "    x='age_jittered',\n",
    "    y='charges',\n",
    "    size='bmi_scaled',\n",
    "    color='smoker_status',\n",
    "    symbol='smoker_status',\n",
    "    size_max=30,\n",
    "    opacity=0.6,\n",
    "    title='Insurance Charges by Age, BMI & Smoking Status',\n",
    "    labels={\n",
    "        'age_jittered': 'Age',\n",
    "        'charges': 'Insurance Charges ($)',\n",
    "        'bmi_scaled': 'BMI (Scaled)',\n",
    "        'smoker_status': 'Smoker'\n",
    "    }\n",
    ")\n",
    "\n",
    "fig.update_layout(\n",
    "    xaxis=dict(title='Age'),\n",
    "    yaxis=dict(title='Insurance Charges ($)'),\n",
    "    template='plotly_white'\n",
    ")\n",
    "\n",
    "fig.show()\n"
   ]
  },
  {
   "cell_type": "code",
   "execution_count": null,
   "id": "f6d2ad66",
   "metadata": {},
   "outputs": [],
   "source": []
  }
 ],
 "metadata": {
  "kernelspec": {
   "display_name": "venv",
   "language": "python",
   "name": "python3"
  },
  "language_info": {
   "codemirror_mode": {
    "name": "ipython",
    "version": 3
   },
   "file_extension": ".py",
   "mimetype": "text/x-python",
   "name": "python",
   "nbconvert_exporter": "python",
   "pygments_lexer": "ipython3",
   "version": "3.12.8"
  }
 },
 "nbformat": 4,
 "nbformat_minor": 5
}
